{
 "cells": [
  {
   "cell_type": "markdown",
   "metadata": {},
   "source": [
    "<div class=\"image\">\n",
    "\n",
    "  <img style=\"float: right;\" src=\"https://pku.org.uk/head.png\" width=\"45%\" align=\"right\">\n",
    "      <h4>\n",
    "          <p style=\"font-size:25pt\">UK19B307 AI Analytics</p>\n",
    "          <p style=\"font-size:15pt\">Quiz 1</p>\n",
    "      </h4>\n",
    "<h5>\n",
    "    <p> Peking University</p>\n",
    "    <p> Demonstrable Labs</p>\n",
    "</h5>\n",
    "</div>"
   ]
  },
  {
   "cell_type": "markdown",
   "metadata": {},
   "source": [
    "### Please doule click this block and enter your name / ID:\n",
    "\n",
    "- Name: Zhang Ziqing\n",
    "- ID: 1901212856"
   ]
  },
  {
   "cell_type": "markdown",
   "metadata": {},
   "source": [
    "<div class=\"alert alert-warning\"> \n",
    "<b>QUESTION 1:</b>\n",
    "\n",
    "Using one numerical operation (**do not use subtraction**), extract the decimal part from the float number `1.949101` (the output should be `0.949101`).\n",
    "\n",
    "</div>"
   ]
  },
  {
   "cell_type": "code",
   "execution_count": 12,
   "metadata": {},
   "outputs": [
    {
     "data": {
      "text/plain": [
       "0.949101"
      ]
     },
     "execution_count": 12,
     "metadata": {},
     "output_type": "execute_result"
    }
   ],
   "source": [
    "1.949101-1.949101//1"
   ]
  },
  {
   "cell_type": "markdown",
   "metadata": {},
   "source": [
    "<div class=\"alert alert-warning\"> \n",
    "<b>QUESTION 2:</b>\n",
    "\n",
    "Get an integer from user input using prompt `Please give me an integer`, assign the input value to a variable called `num_1`. Then in the next line print the square root of `num_1`.\n",
    "\n",
    "For example, if the input integer is `9`, the printed value should be `3.0`.\n",
    "\n",
    "</div>"
   ]
  },
  {
   "cell_type": "code",
   "execution_count": 15,
   "metadata": {},
   "outputs": [
    {
     "name": "stdout",
     "output_type": "stream",
     "text": [
      "please give me an integer: 9\n",
      "3.0\n"
     ]
    }
   ],
   "source": [
    "num_1 = int(input(\"please give me an integer: \"))\n",
    "print(num_1**(1/2))"
   ]
  },
  {
   "cell_type": "markdown",
   "metadata": {},
   "source": [
    "<div class=\"alert alert-warning\">\n",
    "<b>QUESTION 3:</b>\n",
    "\n",
    "1, Define a list: `random_list_of_words = [\"PROBABILITY\", \"KNOWLEDGE\", \"UNIVERSE\"]`\n",
    "\n",
    "2, Print the first letter from each of the words in the list `random_list_of_words` using a `for` loop. The desirable output is:\n",
    "\n",
    "```\n",
    "p\n",
    "K\n",
    "U```\n"
   ]
  },
  {
   "cell_type": "code",
   "execution_count": 17,
   "metadata": {},
   "outputs": [
    {
     "name": "stdout",
     "output_type": "stream",
     "text": [
      "P\n",
      "K\n",
      "U\n"
     ]
    }
   ],
   "source": [
    "random_list_of_words = [\"PROBABILITY\", \"KNOWLEDGE\", \"UNIVERSE\"]\n",
    "for word in random_list_of_words:\n",
    "    print(word[0])"
   ]
  },
  {
   "cell_type": "markdown",
   "metadata": {},
   "source": [
    "<div class=\"alert alert-warning\">\n",
    "<b>QUESTION 4:</b>\n",
    "\n",
    "Print all integers in range from 0 to 10 (inclusive) that are divisible by 2. The expected output is:\n",
    "\n",
    "```\n",
    "0\n",
    "2\n",
    "4\n",
    "6\n",
    "8\n",
    "10\n",
    "```"
   ]
  },
  {
   "cell_type": "code",
   "execution_count": 23,
   "metadata": {},
   "outputs": [
    {
     "name": "stdout",
     "output_type": "stream",
     "text": [
      "0\n",
      "2\n",
      "4\n",
      "6\n",
      "8\n",
      "10\n"
     ]
    }
   ],
   "source": [
    "numbers = list(range(0,11))\n",
    "for i in numbers:\n",
    "    if i%2==0:\n",
    "        print(i)"
   ]
  },
  {
   "cell_type": "markdown",
   "metadata": {},
   "source": [
    "<div class=\"alert alert-warning\">\n",
    "<b>QUESTION 5:</b>\n",
    "\n",
    "1, Define a list: `details = ['!', 'does', 'important', 'work', 'is', 'anything', 'python', 'play', 'practising']`\n",
    "\n",
    "2, Write one line of code so that it prints every other element of the list `details` in reversed order (starting with the last one). The expected output is:\n",
    "\n",
    "`['practising', 'python', 'is', 'important', '!']`\n",
    "\n",
    "<br>\n",
    "<b>DO NOT</b> write: <code>print(['practising', 'python', 'is', 'important', '!'])</code>.\n",
    "</div>"
   ]
  },
  {
   "cell_type": "code",
   "execution_count": 24,
   "metadata": {},
   "outputs": [
    {
     "name": "stdout",
     "output_type": "stream",
     "text": [
      "['practising', 'play', 'python', 'anything', 'is', 'work', 'important', 'does', '!']\n"
     ]
    }
   ],
   "source": [
    "details = ['!', 'does', 'important', 'work', 'is', 'anything', 'python', 'play', 'practising']\n",
    "details = details[::-1]\n",
    "print(details)"
   ]
  },
  {
   "cell_type": "markdown",
   "metadata": {},
   "source": [
    "<div class=\"alert alert-warning\">\n",
    "<b>QUESTION 6:</b>\n",
    "\n",
    "1, Define a list: `letters = ['k', 'm', 'a', 'k', 'k', 'r','o', 'y', 'p', 't', 'd', 's', 'q' 'p', 'y','p', 'e', 'c', 'a', 'e', 'r', 'l', 'w', 'g', 'k', 'e', 'y', 'u', 'k', 'r', 's', 'l', 'd', 'x', 'w', 'q', 'o', 'f', 'k', 'c', 'k', 'u', 'j', 'p', 'r', 'j', 'r','d', 'y', 'i', 't', 'd', 'f', 'p' 'h', 'y','s', 'n', 'b', 'a']`\n",
    "\n",
    "2, Write code to count the number of times letter `k` appears in the list and print the result. The correct result is `7`.\n",
    "</p>\n",
    "</div>"
   ]
  },
  {
   "cell_type": "code",
   "execution_count": 26,
   "metadata": {},
   "outputs": [
    {
     "data": {
      "text/plain": [
       "7"
      ]
     },
     "execution_count": 26,
     "metadata": {},
     "output_type": "execute_result"
    }
   ],
   "source": [
    "letters = ['k', 'm', 'a', 'k', 'k', 'r','o', 'y', 'p', 't', 'd', 's', 'q' 'p', 'y','p', 'e', 'c', 'a', 'e', 'r', 'l', 'w', 'g', 'k', 'e', 'y', 'u', 'k', 'r', 's', 'l', 'd', 'x', 'w', 'q', 'o', 'f', 'k', 'c', 'k', 'u', 'j', 'p', 'r', 'j', 'r','d', 'y', 'i', 't', 'd', 'f', 'p' 'h', 'y','s', 'n', 'b', 'a']\n",
    "letters.count(\"k\")"
   ]
  },
  {
   "cell_type": "markdown",
   "metadata": {},
   "source": [
    "<div class=\"alert alert-warning\">\n",
    "<b>EXERCISE 7:</b> \n",
    "    \n",
    "Please print string `PKU` for 5 times with space in between. \n",
    "\n",
    "<br>\n",
    "The expected output is: <code>PKU PKU PKU PKU PKU</code>\n",
    "</div>"
   ]
  },
  {
   "cell_type": "code",
   "execution_count": 27,
   "metadata": {},
   "outputs": [
    {
     "name": "stdout",
     "output_type": "stream",
     "text": [
      "PKU PKU PKU PKU PKU \n"
     ]
    }
   ],
   "source": [
    "print(\"PKU \"*5)"
   ]
  },
  {
   "cell_type": "markdown",
   "metadata": {},
   "source": [
    "<div class=\"alert alert-warning\">\n",
    "<b>QUESTION 8:</b> \n",
    "    \n",
    "Please print the following string:\n",
    "    \n",
    "```\n",
    "In Python, the backslash \"\\\" is a special character.\n",
    "'\\' can be used to represent whitespace characters, for example:\n",
    "\"\\t\" is a tab.\n",
    "```\n",
    "\n",
    "</div>"
   ]
  },
  {
   "cell_type": "code",
   "execution_count": 80,
   "metadata": {},
   "outputs": [
    {
     "name": "stdout",
     "output_type": "stream",
     "text": [
      "In Python,the backslash \"\\\" is a special character.'' can be used to represent whitespace characters, for example: \"\\t\" is a tab.\n"
     ]
    }
   ],
   "source": [
    "print(\"In Python,the backslash \\\"\\\\\\\" is a special character.'\\' can be used to represent whitespace characters, for example: \\\"\\\\t\\\" is a tab.\")"
   ]
  },
  {
   "cell_type": "markdown",
   "metadata": {},
   "source": [
    "<div class=\"alert alert-warning\">\n",
    "<b>QUESTION 9:</b>\n",
    "\n",
    "1, Define a list: `random_list = ['This', 'is', 'a', 'list', 'of', 'some', 'words']`\n",
    "\n",
    "2, Write code that prints the index of the string `'some'`in the list.\n",
    "  \n",
    "</div>"
   ]
  },
  {
   "cell_type": "code",
   "execution_count": 42,
   "metadata": {},
   "outputs": [
    {
     "name": "stdout",
     "output_type": "stream",
     "text": [
      "some\n"
     ]
    }
   ],
   "source": [
    "random_list = ['This', 'is', 'a', 'list', 'of', 'some', 'words']\n",
    "print(random_list[5])"
   ]
  },
  {
   "cell_type": "markdown",
   "metadata": {},
   "source": [
    "<div class=\"alert alert-warning\">\n",
    "<b>QUESTION 10:</b>\n",
    "\n",
    "1, Define two sets: \n",
    "\n",
    "```python\n",
    "first_set = {1,2,3,4,5}\n",
    "second_set = {4,5,6,7,8}```\n",
    "\n",
    "2, Write code that defines a list called `new_list` which contains the items from both of the two sets. Print the list, the expected output is: `[4, 5]`\n",
    "  \n",
    "</div>"
   ]
  },
  {
   "cell_type": "code",
   "execution_count": 47,
   "metadata": {},
   "outputs": [
    {
     "name": "stdout",
     "output_type": "stream",
     "text": [
      "{4, 5}\n"
     ]
    }
   ],
   "source": [
    "first_set = {1,2,3,4,5}\n",
    "second_set = {4,5,6,7,8}\n",
    "new_list = first_set & second_set\n",
    "print(new_list)"
   ]
  },
  {
   "cell_type": "markdown",
   "metadata": {},
   "source": [
    "<div class=\"alert alert-warning\">\n",
    "<b>QUESTION 11:</b>\n",
    "\n",
    "Create a list called `list_num`. The list contains integers from 0 to 10 (inclusive).\n",
    "\n",
    "<br>\n",
    "Print the list. The expected output is:\n",
    "\n",
    "<code>[0, 1, 2, 3, 4, 5, 6, 7, 8, 9, 10]</code>\n",
    "    \n",
    "</div>"
   ]
  },
  {
   "cell_type": "code",
   "execution_count": 51,
   "metadata": {},
   "outputs": [
    {
     "name": "stdout",
     "output_type": "stream",
     "text": [
      "[0, 1, 2, 3, 4, 5, 6, 7, 8, 9, 10]\n"
     ]
    }
   ],
   "source": [
    "list_num = list(range(0,11))\n",
    "print(list_num)"
   ]
  },
  {
   "cell_type": "markdown",
   "metadata": {},
   "source": [
    "<div class=\"alert alert-warning\">\n",
    "    <b>QUESTION 12:</b>\n",
    "\n",
    "Write a function called <code>ReLU</code> which takes a number as the argument. The function would return 0 if the argument is less than or equal to 0, and return the same number if it's larger than 0.\n",
    "    </div>"
   ]
  },
  {
   "cell_type": "code",
   "execution_count": 53,
   "metadata": {},
   "outputs": [
    {
     "name": "stdout",
     "output_type": "stream",
     "text": [
      "7\n"
     ]
    }
   ],
   "source": [
    "def ReLU(a):\n",
    "    if a <=0:\n",
    "        return 0\n",
    "    if a > 0:\n",
    "        return a\n",
    "\n",
    "print(ReLU(7))"
   ]
  },
  {
   "cell_type": "markdown",
   "metadata": {},
   "source": [
    "<div class=\"alert alert-warning\">\n",
    "<b>QUESTION 13:</b>\n",
    "\n",
    "1, Define a tuple: `Tuplex = (2, 4, 3, 5, 4, 6, 7, 8, 6, 1)`\n",
    "\n",
    "2, Print a slice of the tuple from the beginning to the second element. The expected output is: `(2, 4)`\n",
    "</div>"
   ]
  },
  {
   "cell_type": "code",
   "execution_count": 55,
   "metadata": {},
   "outputs": [
    {
     "name": "stdout",
     "output_type": "stream",
     "text": [
      "(2, 4)\n"
     ]
    }
   ],
   "source": [
    "Tuplex = (2, 4, 3, 5, 4, 6, 7, 8, 6, 1)\n",
    "print(Tuplex[:2])"
   ]
  },
  {
   "cell_type": "markdown",
   "metadata": {},
   "source": [
    "<div class=\"alert alert-warning\">\n",
    "<b>QUESTION 14:</b>\n",
    "    \n",
    "Define a function called `min_of_two` that takes two numbers as arguments and returns the minimum of the two arguments.\n",
    "</div>"
   ]
  },
  {
   "cell_type": "code",
   "execution_count": 57,
   "metadata": {},
   "outputs": [
    {
     "name": "stdout",
     "output_type": "stream",
     "text": [
      "2\n"
     ]
    }
   ],
   "source": [
    "def min_of_two(a,b):\n",
    "    if a>b:\n",
    "        return a\n",
    "    else:\n",
    "        return b\n",
    "print(min_of_two(1,2))"
   ]
  },
  {
   "cell_type": "markdown",
   "metadata": {},
   "source": [
    "<div class=\"alert alert-warning\">\n",
    "<b>QUESTION 15: </b> \n",
    "\n",
    "1, Define a tuple: `books = (\"Harry Potter\", \"Sisterhood of the Traveling Pants\" ,\"Alice in Wonderland\", \"The Hobbit\", \"Fireborne\")`\n",
    "\n",
    "2, Print the number of items in the tuple.\n",
    "</div>"
   ]
  },
  {
   "cell_type": "code",
   "execution_count": 62,
   "metadata": {},
   "outputs": [
    {
     "name": "stdout",
     "output_type": "stream",
     "text": [
      "5\n"
     ]
    }
   ],
   "source": [
    "books = (\"Harry Potter\", \"Sisterhood of the Traveling Pants\" ,\"Alice in Wonderland\", \"The Hobbit\", \"Fireborne\")\n",
    "counter = len(books)\n",
    "print(counter)"
   ]
  },
  {
   "cell_type": "markdown",
   "metadata": {},
   "source": [
    "<div class=\"alert alert-warning\">\n",
    "<b>QUESTION 16: </b> \n",
    "\n",
    "Write a function called `mul_ten` that takes a number as the argument and returns the argument multiplied by 10.</p>\n",
    "\n",
    "</div>"
   ]
  },
  {
   "cell_type": "code",
   "execution_count": 63,
   "metadata": {},
   "outputs": [
    {
     "data": {
      "text/plain": [
       "70"
      ]
     },
     "execution_count": 63,
     "metadata": {},
     "output_type": "execute_result"
    }
   ],
   "source": [
    "def mul_ten(a):\n",
    "    return a * 10\n",
    "mul_ten(7)\n"
   ]
  },
  {
   "cell_type": "markdown",
   "metadata": {},
   "source": [
    "<div class=\"alert alert-warning\">\n",
    "<b>QUESTION 17: </b> \n",
    "\n",
    "1, Define a dictionary with fruits names and their prices: `prices = {\"banana\":0.5, \"apple\":1, \"kiwi\":1, \"orange\":0.8, \"pineapple\":2, \"mango\":2.5}`.\n",
    "\n",
    "\n",
    "2, Update the dictionary by changing the price of pineapple to 3.2.\n",
    "</div>"
   ]
  },
  {
   "cell_type": "code",
   "execution_count": 67,
   "metadata": {},
   "outputs": [
    {
     "name": "stdout",
     "output_type": "stream",
     "text": [
      "{'banana': 0.5, 'apple': 1, 'kiwi': 1, 'orange': 0.8, 'pineapple': 3.2, 'mango': 2.5}\n"
     ]
    }
   ],
   "source": [
    "prices = {\"banana\":0.5, \"apple\":1, \"kiwi\":1, \"orange\":0.8, \"pineapple\":2, \"mango\":2.5}\n",
    "prices[\"pineapple\"] = 3.2\n",
    "print(prices)"
   ]
  },
  {
   "cell_type": "markdown",
   "metadata": {},
   "source": [
    "<div class=\"alert alert-warning\">\n",
    "<b>QUESTION 18: </b> \n",
    "    \n",
    "1, Definee a list: `colours = [\"cyan\", \"magenta\", \"yellow\", \"black\"]`\n",
    "    \n",
    "2, Use the `insert` method to add string `red` as the third item (between`magenta` and `yellow`) in the list.\n",
    "</div>"
   ]
  },
  {
   "cell_type": "code",
   "execution_count": 68,
   "metadata": {},
   "outputs": [
    {
     "name": "stdout",
     "output_type": "stream",
     "text": [
      "['cyan', 'magenta', 'red', 'yellow', 'black']\n"
     ]
    }
   ],
   "source": [
    "colours = [\"cyan\", \"magenta\", \"yellow\", \"black\"]\n",
    "index = 2\n",
    "colours.insert(index,'red') \n",
    "print(colours)"
   ]
  },
  {
   "cell_type": "markdown",
   "metadata": {},
   "source": [
    "<div class=\"alert alert-warning\">\n",
    "<b>QUESTION 19: </b> \n",
    "    \n",
    "Write a loop to print integers from 0 to 8 (inclusive) except 2 and 5.  \n",
    "    \n",
    "The expected output is:\n",
    "\n",
    "```\n",
    "0\n",
    "1\n",
    "3\n",
    "4\n",
    "6\n",
    "7\n",
    "8\n",
    "```\n",
    "</div>"
   ]
  },
  {
   "cell_type": "code",
   "execution_count": 71,
   "metadata": {},
   "outputs": [
    {
     "name": "stdout",
     "output_type": "stream",
     "text": [
      "0 1 3 4 6 7 8 \n",
      "\n"
     ]
    }
   ],
   "source": [
    "for x in range(9):\n",
    "    if (x == 2 or x==5):\n",
    "        continue\n",
    "    print(x,end=' ')\n",
    "print(\"\\n\")"
   ]
  },
  {
   "cell_type": "markdown",
   "metadata": {},
   "source": [
    "<div class=\"alert alert-warning\">\n",
    "<b>QUESTION 20:</b> \n",
    "<p> Write code to replicate the flowchart.<p/>\n",
    "<img src=\"//i.imgur.com/MBJSdAz.png\" width=\"20%\">\n",
    "</div>"
   ]
  },
  {
   "cell_type": "code",
   "execution_count": 69,
   "metadata": {},
   "outputs": [],
   "source": [
    "x = 0\n",
    "s = 0\n",
    "if x < 10:\n",
    "    s = s+x\n",
    "    x = x+1\n",
    "else:\n",
    "    print(\"The sum of first 9 integers\")"
   ]
  },
  {
   "cell_type": "code",
   "execution_count": null,
   "metadata": {},
   "outputs": [],
   "source": []
  }
 ],
 "metadata": {
  "kernelspec": {
   "display_name": "Python 3",
   "language": "python",
   "name": "python3"
  },
  "language_info": {
   "codemirror_mode": {
    "name": "ipython",
    "version": 3
   },
   "file_extension": ".py",
   "mimetype": "text/x-python",
   "name": "python",
   "nbconvert_exporter": "python",
   "pygments_lexer": "ipython3",
   "version": "3.7.4"
  }
 },
 "nbformat": 4,
 "nbformat_minor": 2
}
